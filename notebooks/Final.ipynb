{
 "cells": [
  {
   "cell_type": "markdown",
   "metadata": {},
   "source": [
    "# Final Project for Adaptive Decision Making\n",
    "### Modeling Behavioral Data from Attentiveness Study with DDM\n",
    "Group Members: Oscar, Emilio, and William"
   ]
  },
  {
   "cell_type": "markdown",
   "metadata": {},
   "source": [
    "### Do all of our main imports first"
   ]
  },
  {
   "cell_type": "code",
   "execution_count": 1,
   "metadata": {},
   "outputs": [],
   "source": [
    "from __future__ import division\n",
    "from ADMCode import visualize as vis\n",
    "\n",
    "import numpy as np\n",
    "import pandas as pd\n",
    "import numba as nb\n",
    "\n",
    "from numba.decorators import jit\n",
    "from numpy.random import random_sample\n",
    "from numba import float64, int64, vectorize, boolean\n",
    "\n",
    "from ipywidgets import interactive\n",
    "import matplotlib.pyplot as plt\n",
    "import seaborn as sns\n",
    "import warnings\n",
    "\n",
    "warnings.simplefilter('ignore', np.RankWarning)\n",
    "warnings.filterwarnings(\"ignore\", module=\"matplotlib\")\n",
    "warnings.filterwarnings(\"ignore\")\n",
    "sns.set(style='white', font_scale=1.3)\n",
    "\n",
    "%matplotlib inline"
   ]
  },
  {
   "cell_type": "markdown",
   "metadata": {},
   "source": [
    "### Create a single decision barrier DDM"
   ]
  },
  {
   "cell_type": "code",
   "execution_count": 2,
   "metadata": {},
   "outputs": [],
   "source": [
    "@jit(nb.typeof((1.0, 1.0))(float64[:], float64[:], float64[:]), nopython=True)\n",
    "def sim_ddm(parameters, rProb, trace):\n",
    "\n",
    "    # extract parameters\n",
    "    a, tr, v, z, si, dx, dt = parameters\n",
    "\n",
    "    # convert drift-rate into a probability,\n",
    "    # & scale by sigma (si) and timestep (dt)\n",
    "    # if v > 0, then 0.5 < vProb < 1.0\n",
    "    # if v < 0, then 0.0 < vProb < 0.5\n",
    "    vProb = .5 * (1 + (v * np.sqrt(dt))/si)\n",
    "\n",
    "    # define starting point with respect to boundary height\n",
    "    zStart = z * a\n",
    "\n",
    "    #initialize evidence variable at zStart\n",
    "    evidence = zStart\n",
    "    trace[0] = evidence\n",
    "\n",
    "    # define deadline (max time allowed for accumulation)\n",
    "    deadline = trace.size\n",
    "\n",
    "    for nsteps in range(1, deadline):\n",
    "        # sample a random probability (r) and compare w/ vProb\n",
    "        if rProb[nsteps] < vProb:\n",
    "            # if r < vProb, step evidence up (towards a)\n",
    "            evidence += dx\n",
    "        else:\n",
    "            # if r > vProb, step evidence down (towards 0)\n",
    "            evidence -= dx\n",
    "\n",
    "        if evidence < zStart:\n",
    "            evidence = zStart\n",
    "            \n",
    "        # store new value of evidence at current timestep\n",
    "        trace[nsteps] = evidence\n",
    "            \n",
    "        if evidence >= a:\n",
    "            # calculate RT (in milliseconds)\n",
    "            rt = tr + (nsteps * dt)\n",
    "            # set choice to 1.0 (upper bound)\n",
    "            choice = 1.0\n",
    "\n",
    "            # terminate simulation, return rt & choice\n",
    "            return rt, choice\n",
    "\n",
    "    # return -1.0 for rt and choice so we can filter out\n",
    "    # trials where evidence never crossed 0 or a\n",
    "    return -1.0, -1.0"
   ]
  },
  {
   "cell_type": "markdown",
   "metadata": {},
   "source": [
    "### Background code for running DDM and generating dataframes"
   ]
  },
  {
   "cell_type": "code",
   "execution_count": 3,
   "metadata": {},
   "outputs": [],
   "source": [
    "def gen_ddm_storage_objects(parameters, ntrials=200, deadline=1.5):\n",
    "    dt = parameters[-1]\n",
    "    ntime = np.int(np.floor(deadline / dt))\n",
    "    data = np.zeros((ntrials, 2))\n",
    "    rProb = random_sample((ntrials, ntime))\n",
    "    traces = np.zeros_like(rProb)\n",
    "    return data, rProb, traces\n",
    "\n",
    "def clean_output(data, traces, deadline=1.2, stimulus=None):\n",
    "    df = pd.DataFrame(data, columns=['rt', 'choice'])\n",
    "    df.insert(0, 'trial', np.arange(1, 1+df.shape[0]))\n",
    "    df = df[(df.rt>0)&(df.rt<deadline)]\n",
    "    traces = traces[df.index.values, :]\n",
    "    df = df.reset_index(drop=True)\n",
    "    return df, traces\n",
    "\n",
    "@jit((float64[:], float64[:,:], float64[:,:], float64[:,:]), nopython=True)\n",
    "def _sim_ddm_trials_(parameters, data, rProb, traces):\n",
    "    ntrials = data.shape[0]\n",
    "    for t in range(ntrials):\n",
    "        data[t, :] = sim_ddm(parameters, rProb[t], traces[t])\n",
    "\n",
    "def sim_ddm_trials(parameters, ntrials=500, deadline=1.5, decay=False):\n",
    "    data, rProb, traces = gen_ddm_storage_objects(parameters, ntrials, deadline)\n",
    "    _sim_ddm_trials_(parameters, data, rProb, traces)\n",
    "    df, traces = clean_output(data, traces, deadline=deadline)\n",
    "    return df, traces"
   ]
  },
  {
   "cell_type": "markdown",
   "metadata": {},
   "source": [
    "### Set our parameters\n",
    "We can begin with a regular DDM (with one boundary) and tweak with the parameters or potentially add more parameters to get this best fit to the behavioral data that we have"
   ]
  },
  {
   "cell_type": "code",
   "execution_count": 4,
   "metadata": {},
   "outputs": [],
   "source": [
    "a = 1 # boundary height\n",
    "v = .15 # drift-rate\n",
    "tr = 0 # nondecision time (in seconds)\n",
    "z = 0 # starting point ([0,1], fraction of a)\n",
    "\n",
    "dt = .01 # time stepsize\n",
    "si = .1 # sigma (noise scalar)\n",
    "dx = si * np.sqrt(dt) # evidence stepsize (up/down)\n",
    "deadline = 60 # max decision time (in sec)\n",
    "ntrials = 46 # number of trials to simulate\n",
    "\n",
    "parameters = np.array([a, tr, v, z, si, dx, dt])"
   ]
  },
  {
   "cell_type": "code",
   "execution_count": 5,
   "metadata": {},
   "outputs": [
    {
     "data": {
      "text/html": [
       "<div>\n",
       "<style scoped>\n",
       "    .dataframe tbody tr th:only-of-type {\n",
       "        vertical-align: middle;\n",
       "    }\n",
       "\n",
       "    .dataframe tbody tr th {\n",
       "        vertical-align: top;\n",
       "    }\n",
       "\n",
       "    .dataframe thead th {\n",
       "        text-align: right;\n",
       "    }\n",
       "</style>\n",
       "<table border=\"1\" class=\"dataframe\">\n",
       "  <thead>\n",
       "    <tr style=\"text-align: right;\">\n",
       "      <th></th>\n",
       "      <th>trial</th>\n",
       "      <th>rt</th>\n",
       "      <th>choice</th>\n",
       "    </tr>\n",
       "  </thead>\n",
       "  <tbody>\n",
       "    <tr>\n",
       "      <th>0</th>\n",
       "      <td>1</td>\n",
       "      <td>7.78</td>\n",
       "      <td>1.0</td>\n",
       "    </tr>\n",
       "    <tr>\n",
       "      <th>1</th>\n",
       "      <td>2</td>\n",
       "      <td>8.28</td>\n",
       "      <td>1.0</td>\n",
       "    </tr>\n",
       "    <tr>\n",
       "      <th>2</th>\n",
       "      <td>3</td>\n",
       "      <td>5.79</td>\n",
       "      <td>1.0</td>\n",
       "    </tr>\n",
       "    <tr>\n",
       "      <th>3</th>\n",
       "      <td>4</td>\n",
       "      <td>6.79</td>\n",
       "      <td>1.0</td>\n",
       "    </tr>\n",
       "    <tr>\n",
       "      <th>4</th>\n",
       "      <td>5</td>\n",
       "      <td>5.37</td>\n",
       "      <td>1.0</td>\n",
       "    </tr>\n",
       "  </tbody>\n",
       "</table>\n",
       "</div>"
      ],
      "text/plain": [
       "   trial    rt  choice\n",
       "0      1  7.78     1.0\n",
       "1      2  8.28     1.0\n",
       "2      3  5.79     1.0\n",
       "3      4  6.79     1.0\n",
       "4      5  5.37     1.0"
      ]
     },
     "execution_count": 5,
     "metadata": {},
     "output_type": "execute_result"
    }
   ],
   "source": [
    "df, traces = sim_ddm_trials(parameters, ntrials, deadline)\n",
    "df.head()"
   ]
  },
  {
   "cell_type": "code",
   "execution_count": 6,
   "metadata": {},
   "outputs": [
    {
     "name": "stdout",
     "output_type": "stream",
     "text": [
      "RT (cor) = 634 ms\n",
      "Accuracy = 100%\n"
     ]
    }
   ],
   "source": [
    "accuracy = df.choice.mean()\n",
    "corRT = df[df.choice==1].rt.mean()\n",
    "\n",
    "print(\"RT (cor) = {:.0f} ms\".format(corRT/dt))\n",
    "print(\"Accuracy = {:.0f}%\".format(accuracy*100))"
   ]
  },
  {
   "cell_type": "markdown",
   "metadata": {},
   "source": [
    "### Visualization of single barrier DDM"
   ]
  },
  {
   "cell_type": "code",
   "execution_count": 7,
   "metadata": {},
   "outputs": [
    {
     "data": {
      "image/png": "[encoded data removed]",
      "text/plain": [
       "<Figure size 612x504 with 3 Axes>"
      ]
     },
     "metadata": {},
     "output_type": "display_data"
    }
   ],
   "source": [
    "ax = vis.plot_ddm_sims(df, parameters, traces=traces, plot_v=True)"
   ]
  },
  {
   "cell_type": "markdown",
   "metadata": {},
   "source": [
    "### Create a single decision barrier DDM with attention decay"
   ]
  },
  {
   "cell_type": "code",
   "execution_count": 8,
   "metadata": {},
   "outputs": [],
   "source": [
    "@jit(nb.typeof((1.0, 1.0))(float64[:], float64[:], float64[:]), nopython=True)\n",
    "def sim_decay_ddm(parameters, rProb, trace):\n",
    "    # extract parameters\n",
    "    a, tr, v, z, si, dx, dt, decay, decay_acceleration = parameters\n",
    "\n",
    "    # convert drift-rate into a probability,\n",
    "    # & scale by sigma (si) and timestep (dt)\n",
    "    # if v > 0, then 0.5 < vProb < 1.0\n",
    "    # if v < 0, then 0.0 < vProb < 0.5\n",
    "    vProb = .5 * (1 + (v * np.sqrt(dt))/si)\n",
    "\n",
    "    # define starting point with respect to boundary height\n",
    "    zStart = z * a\n",
    "\n",
    "    #initialize evidence variable at zStart\n",
    "    evidence = zStart\n",
    "    trace[0] = evidence\n",
    "\n",
    "    # define deadline (max time allowed for accumulation)\n",
    "    deadline = trace.size\n",
    "\n",
    "    for nsteps in range(1, deadline):\n",
    "        # sample a random probability (r) and compare w/ vProb\n",
    "        if rProb[nsteps] < vProb:\n",
    "            # if r < vProb, step evidence up (towards a)\n",
    "            evidence += dx\n",
    "        else:\n",
    "            # if r > vProb, step evidence down (towards 0)\n",
    "            evidence -= dx\n",
    "\n",
    "        # always add in decay parameter\n",
    "        evidence -= decay\n",
    "            \n",
    "        if evidence < zStart:\n",
    "            evidence = zStart\n",
    "            \n",
    "        # store new value of evidence at current timestep\n",
    "        trace[nsteps] = evidence\n",
    "            \n",
    "        if evidence >= a:\n",
    "            # calculate RT (in milliseconds)\n",
    "            rt = tr + (nsteps * dt)\n",
    "            # set choice to 1.0 (upper bound)\n",
    "            choice = 1.0\n",
    "\n",
    "            # terminate simulation, return rt & choice\n",
    "            return rt, choice\n",
    "\n",
    "    # return -1.0 for rt and choice so we can filter out\n",
    "    # trials where evidence never crossed 0 or a\n",
    "    return -1.0, -1.0"
   ]
  },
  {
   "cell_type": "markdown",
   "metadata": {},
   "source": [
    "### Background code for running decay DDM and generating dataframes"
   ]
  },
  {
   "cell_type": "code",
   "execution_count": 12,
   "metadata": {},
   "outputs": [],
   "source": [
    "@jit((float64[:], float64[:,:], float64[:,:], float64[:,:]), nopython=True)\n",
    "def _sim_decay_ddm_trials_(parameters, data, rProb, traces):\n",
    "    ntrials = data.shape[0]\n",
    "    for t in range(ntrials):\n",
    "        a, tr, v, z, si, dx, dt, decay, decay_acceleration = parameters\n",
    "        decay += decay_acceleration\n",
    "        parameters_decay = np.array([a, tr, v, z, si, dx, dt, decay, decay_acceleration])\n",
    "        data[t, :] = sim_decay_ddm(parameters, rProb[t], traces[t])\n",
    "\n",
    "def sim_decay_ddm_trials(parameters, ntrials=500, deadline=1.5, decay=False):\n",
    "    data, rProb, traces = gen_ddm_storage_objects(parameters, ntrials, deadline)\n",
    "    _sim_decay_ddm_trials_(parameters, data, rProb, traces)\n",
    "    df, traces = clean_output(data, traces, deadline=deadline)\n",
    "    return df, traces"
   ]
  },
  {
   "cell_type": "code",
   "execution_count": 13,
   "metadata": {},
   "outputs": [],
   "source": [
    "a = 1 # boundary height\n",
    "v = .15 # drift-rate\n",
    "tr = 0 # nondecision time (in seconds)\n",
    "z = 0 # starting point ([0,1], fraction of a)\n",
    "decay = 0.0005\n",
    "decay_acceleration = 0.0001\n",
    "\n",
    "dt = .01 # time stepsize\n",
    "si = .1 # sigma (noise scalar)\n",
    "dx = si * np.sqrt(dt) # evidence stepsize (up/down)\n",
    "deadline = 60 # max decision time (in sec)\n",
    "ntrials = 46 # number of trials to simulate\n",
    "\n",
    "parameters_decay = np.array([a, tr, v, z, si, dx, dt, decay, decay_acceleration])"
   ]
  },
  {
   "cell_type": "code",
   "execution_count": 14,
   "metadata": {},
   "outputs": [
    {
     "data": {
      "text/html": [
       "<div>\n",
       "<style scoped>\n",
       "    .dataframe tbody tr th:only-of-type {\n",
       "        vertical-align: middle;\n",
       "    }\n",
       "\n",
       "    .dataframe tbody tr th {\n",
       "        vertical-align: top;\n",
       "    }\n",
       "\n",
       "    .dataframe thead th {\n",
       "        text-align: right;\n",
       "    }\n",
       "</style>\n",
       "<table border=\"1\" class=\"dataframe\">\n",
       "  <thead>\n",
       "    <tr style=\"text-align: right;\">\n",
       "      <th></th>\n",
       "      <th>trial</th>\n",
       "      <th>rt</th>\n",
       "      <th>choice</th>\n",
       "    </tr>\n",
       "  </thead>\n",
       "  <tbody>\n",
       "    <tr>\n",
       "      <th>0</th>\n",
       "      <td>1</td>\n",
       "      <td>5.44</td>\n",
       "      <td>1.0</td>\n",
       "    </tr>\n",
       "    <tr>\n",
       "      <th>1</th>\n",
       "      <td>2</td>\n",
       "      <td>9.15</td>\n",
       "      <td>1.0</td>\n",
       "    </tr>\n",
       "    <tr>\n",
       "      <th>2</th>\n",
       "      <td>3</td>\n",
       "      <td>7.99</td>\n",
       "      <td>1.0</td>\n",
       "    </tr>\n",
       "    <tr>\n",
       "      <th>3</th>\n",
       "      <td>4</td>\n",
       "      <td>11.05</td>\n",
       "      <td>1.0</td>\n",
       "    </tr>\n",
       "    <tr>\n",
       "      <th>4</th>\n",
       "      <td>5</td>\n",
       "      <td>14.43</td>\n",
       "      <td>1.0</td>\n",
       "    </tr>\n",
       "  </tbody>\n",
       "</table>\n",
       "</div>"
      ],
      "text/plain": [
       "   trial     rt  choice\n",
       "0      1   5.44     1.0\n",
       "1      2   9.15     1.0\n",
       "2      3   7.99     1.0\n",
       "3      4  11.05     1.0\n",
       "4      5  14.43     1.0"
      ]
     },
     "execution_count": 14,
     "metadata": {},
     "output_type": "execute_result"
    }
   ],
   "source": [
    "df, traces = sim_decay_ddm_trials(parameters_decay, ntrials, deadline)\n",
    "df.head()"
   ]
  },
  {
   "cell_type": "code",
   "execution_count": 15,
   "metadata": {},
   "outputs": [
    {
     "name": "stdout",
     "output_type": "stream",
     "text": [
      "RT (cor) = 908 ms\n",
      "Accuracy = 100%\n"
     ]
    }
   ],
   "source": [
    "accuracy = df.choice.mean()\n",
    "corRT = df[df.choice==1].rt.mean()\n",
    "\n",
    "print(\"RT (cor) = {:.0f} ms\".format(corRT/dt))\n",
    "print(\"Accuracy = {:.0f}%\".format(accuracy*100))"
   ]
  },
  {
   "cell_type": "code",
   "execution_count": null,
   "metadata": {},
   "outputs": [],
   "source": []
  },
  {
   "cell_type": "code",
   "execution_count": null,
   "metadata": {},
   "outputs": [],
   "source": []
  }
 ],
 "metadata": {
  "kernelspec": {
   "display_name": "Python 3",
   "language": "python",
   "name": "python3"
  },
  "language_info": {
   "codemirror_mode": {
    "name": "ipython",
    "version": 3
   },
   "file_extension": ".py",
   "mimetype": "text/x-python",
   "name": "python",
   "nbconvert_exporter": "python",
   "pygments_lexer": "ipython3",
   "version": "3.7.1"
  }
 },
 "nbformat": 4,
 "nbformat_minor": 2
}
